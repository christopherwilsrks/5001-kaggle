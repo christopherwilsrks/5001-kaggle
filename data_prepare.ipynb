{
 "cells": [
  {
   "cell_type": "code",
   "execution_count": 35,
   "metadata": {
    "collapsed": true,
    "pycharm": {
     "name": "#%%\n"
    }
   },
   "outputs": [],
   "source": [
    "from datetime import datetime\n",
    "import numpy as np\n",
    "import pandas as pd\n",
    "from dateutil.relativedelta import relativedelta"
   ]
  },
  {
   "cell_type": "code",
   "execution_count": 36,
   "outputs": [],
   "source": [
    "holidays = [\n",
    "    '2017-01-01',\n",
    "    '2017-01-30',\n",
    "    '2017-04-04',\n",
    "    '2017-05-01',\n",
    "    '2017-05-30',\n",
    "    '2017-07-01',\n",
    "    '2017-10-01',\n",
    "    '2017-10-05',\n",
    "    '2017-10-28',\n",
    "    '2017-12-22',\n",
    "    '2017-12-25',\n",
    "    '2018-01-01',\n",
    "    '2018-02-16',\n",
    "    '2018-02-17',\n",
    "    '2018-02-19',\n",
    "    '2018-04-05',\n",
    "    '2018-05-01',\n",
    "    '2018-06-18',\n",
    "    '2018-07-01',\n",
    "    '2018-09-25',\n",
    "    '2018-10-01',\n",
    "    '2018-10-17',\n",
    "    '2018-12-22',\n",
    "    '2018-12-25',\n",
    "    '2019-01-01'\n",
    "]"
   ],
   "metadata": {
    "collapsed": false,
    "pycharm": {
     "name": "#%%\n"
    }
   }
  },
  {
   "cell_type": "code",
   "execution_count": 37,
   "outputs": [],
   "source": [
    "train = pd.read_csv(\"train.csv\")\n",
    "test = pd.read_csv(\"test.csv\")\n",
    "weather = pd.read_csv('weather_complement.csv')"
   ],
   "metadata": {
    "collapsed": false,
    "pycharm": {
     "name": "#%%\n"
    }
   }
  },
  {
   "cell_type": "code",
   "execution_count": 38,
   "outputs": [
    {
     "data": {
      "text/plain": "          id              date      speed            datetime\n0          0     1/1/2017 0:00  43.002930 2017-01-01 00:00:00\n1          1     1/1/2017 1:00  46.118696 2017-01-01 01:00:00\n2          2     1/1/2017 2:00  44.294158 2017-01-01 02:00:00\n3          3     1/1/2017 3:00  41.067468 2017-01-01 03:00:00\n4          4     1/1/2017 4:00  46.448653 2017-01-01 04:00:00\n...      ...               ...        ...                 ...\n14001  14001  31/12/2018 12:00  19.865269 2018-12-31 12:00:00\n14002  14002  31/12/2018 15:00  17.820375 2018-12-31 15:00:00\n14003  14003  31/12/2018 16:00  12.501851 2018-12-31 16:00:00\n14004  14004  31/12/2018 18:00  15.979319 2018-12-31 18:00:00\n14005  14005  31/12/2018 20:00  40.594183 2018-12-31 20:00:00\n\n[14006 rows x 4 columns]",
      "text/html": "<div>\n<style scoped>\n    .dataframe tbody tr th:only-of-type {\n        vertical-align: middle;\n    }\n\n    .dataframe tbody tr th {\n        vertical-align: top;\n    }\n\n    .dataframe thead th {\n        text-align: right;\n    }\n</style>\n<table border=\"1\" class=\"dataframe\">\n  <thead>\n    <tr style=\"text-align: right;\">\n      <th></th>\n      <th>id</th>\n      <th>date</th>\n      <th>speed</th>\n      <th>datetime</th>\n    </tr>\n  </thead>\n  <tbody>\n    <tr>\n      <th>0</th>\n      <td>0</td>\n      <td>1/1/2017 0:00</td>\n      <td>43.002930</td>\n      <td>2017-01-01 00:00:00</td>\n    </tr>\n    <tr>\n      <th>1</th>\n      <td>1</td>\n      <td>1/1/2017 1:00</td>\n      <td>46.118696</td>\n      <td>2017-01-01 01:00:00</td>\n    </tr>\n    <tr>\n      <th>2</th>\n      <td>2</td>\n      <td>1/1/2017 2:00</td>\n      <td>44.294158</td>\n      <td>2017-01-01 02:00:00</td>\n    </tr>\n    <tr>\n      <th>3</th>\n      <td>3</td>\n      <td>1/1/2017 3:00</td>\n      <td>41.067468</td>\n      <td>2017-01-01 03:00:00</td>\n    </tr>\n    <tr>\n      <th>4</th>\n      <td>4</td>\n      <td>1/1/2017 4:00</td>\n      <td>46.448653</td>\n      <td>2017-01-01 04:00:00</td>\n    </tr>\n    <tr>\n      <th>...</th>\n      <td>...</td>\n      <td>...</td>\n      <td>...</td>\n      <td>...</td>\n    </tr>\n    <tr>\n      <th>14001</th>\n      <td>14001</td>\n      <td>31/12/2018 12:00</td>\n      <td>19.865269</td>\n      <td>2018-12-31 12:00:00</td>\n    </tr>\n    <tr>\n      <th>14002</th>\n      <td>14002</td>\n      <td>31/12/2018 15:00</td>\n      <td>17.820375</td>\n      <td>2018-12-31 15:00:00</td>\n    </tr>\n    <tr>\n      <th>14003</th>\n      <td>14003</td>\n      <td>31/12/2018 16:00</td>\n      <td>12.501851</td>\n      <td>2018-12-31 16:00:00</td>\n    </tr>\n    <tr>\n      <th>14004</th>\n      <td>14004</td>\n      <td>31/12/2018 18:00</td>\n      <td>15.979319</td>\n      <td>2018-12-31 18:00:00</td>\n    </tr>\n    <tr>\n      <th>14005</th>\n      <td>14005</td>\n      <td>31/12/2018 20:00</td>\n      <td>40.594183</td>\n      <td>2018-12-31 20:00:00</td>\n    </tr>\n  </tbody>\n</table>\n<p>14006 rows × 4 columns</p>\n</div>"
     },
     "execution_count": 38,
     "metadata": {},
     "output_type": "execute_result"
    }
   ],
   "source": [
    "train['datetime'] = train['date'].apply(lambda date: '-'.join(date.split()[0].split('/')[::-1]) + ' ' + date.split()[1])\n",
    "test['datetime'] = test['date'].apply(lambda date: '-'.join(date.split()[0].split('/')[::-1]) + ' ' + date.split()[1])\n",
    "train['datetime'] = pd.to_datetime(train.date,format='%Y%-%m-%d %H:%M',infer_datetime_format=True)\n",
    "test['datetime'] = pd.to_datetime(test.date,format='%Y-%m-%d %H:%M',infer_datetime_format=True)\n",
    "train"
   ],
   "metadata": {
    "collapsed": false,
    "pycharm": {
     "name": "#%%\n"
    }
   }
  },
  {
   "cell_type": "code",
   "execution_count": 39,
   "outputs": [
    {
     "data": {
      "text/plain": "datetime                  0\nsummary                   0\nprecipIntensity        5409\nprecipProbability      5409\ntemperature               2\napparentTemperature       2\ndewPoint                  0\nhumidity                  0\nwindSpeed                48\nwindGust               5481\nwindBearing              55\nuvIndex                 492\nvisibility               32\ndtype: int64"
     },
     "execution_count": 39,
     "metadata": {},
     "output_type": "execute_result"
    }
   ],
   "source": [
    "# 格式化weather时间\n",
    "weather['date'] = pd.to_datetime(weather.date,format='%Y%-%m-%d %H:%M',infer_datetime_format=True)\n",
    "weather = weather.rename(columns={'date': 'datetime'})\n",
    "weather.index = weather.datetime\n",
    "weather.shape[0] - weather.count()"
   ],
   "metadata": {
    "collapsed": false,
    "pycharm": {
     "name": "#%%\n"
    }
   }
  },
  {
   "cell_type": "code",
   "execution_count": 40,
   "outputs": [],
   "source": [
    "# 清洗 nan\n",
    "# weather = weather.drop(['precipIntensity', 'precipProbability', 'windGust'], 1)\n",
    "# weather = weather.fillna(axis=1, method='ffill')\n",
    "weather = weather.fillna(method='ffill').drop(['precipIntensity', 'precipProbability', 'windGust'], 1)\n",
    "# weather"
   ],
   "metadata": {
    "collapsed": false,
    "pycharm": {
     "name": "#%%\n"
    }
   }
  },
  {
   "cell_type": "code",
   "execution_count": 41,
   "outputs": [
    {
     "data": {
      "text/plain": "array([-25.71, -25.65, -25.6 , ...,  35.95,  36.13,  36.38])"
     },
     "execution_count": 41,
     "metadata": {},
     "output_type": "execute_result"
    }
   ],
   "source": [
    "np.unique(weather['temperature'])"
   ],
   "metadata": {
    "collapsed": false,
    "pycharm": {
     "name": "#%%\n"
    }
   }
  },
  {
   "cell_type": "code",
   "execution_count": 42,
   "outputs": [],
   "source": [
    "# 对weather的summary数值化\n",
    "# weather.append(pd.get_dummies(weather['summary']), 1)\n",
    "weather = weather.drop(['datetime'], 1).join(pd.get_dummies(weather['summary']), on='datetime')\n",
    "# pd.get_dummies(weather['summary'])"
   ],
   "metadata": {
    "collapsed": false,
    "pycharm": {
     "name": "#%%\n"
    }
   }
  },
  {
   "cell_type": "code",
   "execution_count": 43,
   "outputs": [
    {
     "data": {
      "text/plain": "array([-25.71, -25.65, -25.6 , ...,  35.95,  36.13,  36.38])"
     },
     "execution_count": 43,
     "metadata": {},
     "output_type": "execute_result"
    }
   ],
   "source": [
    "np.unique(weather['temperature'])\n",
    "# weather.drop(['summary'], 1).to_csv('check_nan.csv', header=True, index=False)"
   ],
   "metadata": {
    "collapsed": false,
    "pycharm": {
     "name": "#%%\n"
    }
   }
  },
  {
   "cell_type": "code",
   "execution_count": 44,
   "outputs": [
    {
     "data": {
      "text/plain": "(          id              date      speed            datetime  around_holiday  \\\n 0          0     1/1/2017 0:00  43.002930 2017-01-01 00:00:00           False   \n 1          1     1/1/2017 1:00  46.118696 2017-01-01 01:00:00           False   \n 2          2     1/1/2017 2:00  44.294158 2017-01-01 02:00:00           False   \n 3          3     1/1/2017 3:00  41.067468 2017-01-01 03:00:00           False   \n 4          4     1/1/2017 4:00  46.448653 2017-01-01 04:00:00           False   \n ...      ...               ...        ...                 ...             ...   \n 14001  14001  31/12/2018 12:00  19.865269 2018-12-31 12:00:00            True   \n 14002  14002  31/12/2018 15:00  17.820375 2018-12-31 15:00:00            True   \n 14003  14003  31/12/2018 16:00  12.501851 2018-12-31 16:00:00            True   \n 14004  14004  31/12/2018 18:00  15.979319 2018-12-31 18:00:00            True   \n 14005  14005  31/12/2018 20:00  40.594183 2018-12-31 20:00:00            True   \n \n        holiday  \n 0         True  \n 1         True  \n 2         True  \n 3         True  \n 4         True  \n ...        ...  \n 14001    False  \n 14002    False  \n 14003    False  \n 14004    False  \n 14005    False  \n \n [14006 rows x 6 columns],\n         id              date            datetime  around_holiday  holiday\n 0        0     1/1/2018 2:00 2018-01-01 02:00:00           False     True\n 1        1     1/1/2018 5:00 2018-01-01 05:00:00           False     True\n 2        2     1/1/2018 7:00 2018-01-01 07:00:00           False     True\n 3        3     1/1/2018 8:00 2018-01-01 08:00:00           False     True\n 4        4    1/1/2018 10:00 2018-01-01 10:00:00           False     True\n ...    ...               ...                 ...             ...      ...\n 3499  3499  31/12/2018 17:00 2018-12-31 17:00:00            True    False\n 3500  3500  31/12/2018 19:00 2018-12-31 19:00:00            True    False\n 3501  3501  31/12/2018 21:00 2018-12-31 21:00:00            True    False\n 3502  3502  31/12/2018 22:00 2018-12-31 22:00:00            True    False\n 3503  3503  31/12/2018 23:00 2018-12-31 23:00:00            True    False\n \n [3504 rows x 5 columns])"
     },
     "execution_count": 44,
     "metadata": {},
     "output_type": "execute_result"
    }
   ],
   "source": [
    "def is_around_holiday(date):\n",
    "    for holiday in holidays:\n",
    "        holiday = datetime.strptime(holiday, '%Y-%m-%d')\n",
    "        if holiday - relativedelta(days=1) <= date < holiday:\n",
    "            return True\n",
    "        elif holiday + relativedelta(days=1) <= date < holiday + relativedelta(days=2):\n",
    "            return True\n",
    "    return False\n",
    "\n",
    "\n",
    "def is_holiday(date):\n",
    "    for holiday in holidays:\n",
    "        holiday = datetime.strptime(holiday, '%Y-%m-%d')\n",
    "        if holiday <= date < holiday + relativedelta(days=1):\n",
    "            return True\n",
    "    return False\n",
    "\n",
    "\n",
    "train['around_holiday'] = train['datetime'].apply(is_around_holiday)\n",
    "test['around_holiday'] = test['datetime'].apply(is_around_holiday)\n",
    "train['holiday'] = train['datetime'].apply(is_holiday)\n",
    "test['holiday'] = test['datetime'].apply(is_holiday)\n",
    "train, test"
   ],
   "metadata": {
    "collapsed": false,
    "pycharm": {
     "name": "#%%\n"
    }
   }
  },
  {
   "cell_type": "code",
   "execution_count": 45,
   "outputs": [
    {
     "data": {
      "text/plain": "(          id              date      speed  around_holiday  holiday  \\\n 0          0     1/1/2017 0:00  43.002930           False     True   \n 1          1     1/1/2017 1:00  46.118696           False     True   \n 2          2     1/1/2017 2:00  44.294158           False     True   \n 3          3     1/1/2017 3:00  41.067468           False     True   \n 4          4     1/1/2017 4:00  46.448653           False     True   \n ...      ...               ...        ...             ...      ...   \n 14001  14001  31/12/2018 12:00  19.865269            True    False   \n 14002  14002  31/12/2018 15:00  17.820375            True    False   \n 14003  14003  31/12/2018 16:00  12.501851            True    False   \n 14004  14004  31/12/2018 18:00  15.979319            True    False   \n 14005  14005  31/12/2018 20:00  40.594183            True    False   \n \n        temperature  apparentTemperature  dewPoint  humidity  windSpeed  ...  \\\n 0            18.07                18.07      7.59      0.50       4.40  ...   \n 1            17.82                17.82      7.55      0.51       5.83  ...   \n 2            17.89                17.89     11.64      0.67       5.35  ...   \n 3            17.45                17.45      7.10      0.51       6.54  ...   \n 4            17.45                17.45      7.49      0.52       6.93  ...   \n ...            ...                  ...       ...       ...        ...  ...   \n 14001        11.61                11.61      5.00      0.64       6.70  ...   \n 14002        11.61                11.61      5.00      0.64       6.70  ...   \n 14003        11.61                11.61      5.00      0.64       7.20  ...   \n 14004        11.61                11.61      5.00      0.64       5.70  ...   \n 14005        11.61                11.61      5.00      0.64       5.09  ...   \n \n        Possible Drizzle and Humid  Possible Light Rain  \\\n 0                               0                    0   \n 1                               0                    0   \n 2                               0                    0   \n 3                               0                    0   \n 4                               0                    0   \n ...                           ...                  ...   \n 14001                           0                    0   \n 14002                           0                    0   \n 14003                           0                    0   \n 14004                           0                    0   \n 14005                           0                    0   \n \n        Possible Light Rain and Humid  Rain  Rain and Dangerously Windy  \\\n 0                                  0     0                           0   \n 1                                  0     0                           0   \n 2                                  0     0                           0   \n 3                                  0     0                           0   \n 4                                  0     0                           0   \n ...                              ...   ...                         ...   \n 14001                              0     0                           0   \n 14002                              0     0                           0   \n 14003                              0     0                           0   \n 14004                              0     0                           0   \n 14005                              0     0                           0   \n \n        Rain and Humid  Rain and Windy  Windy  Windy and Humid  \\\n 0                   0               0      0                0   \n 1                   0               0      0                0   \n 2                   0               0      0                0   \n 3                   0               0      0                0   \n 4                   0               0      0                0   \n ...               ...             ...    ...              ...   \n 14001               0               0      0                0   \n 14002               0               0      0                0   \n 14003               0               0      0                0   \n 14004               0               0      0                0   \n 14005               0               0      0                0   \n \n        Windy and Partly Cloudy  \n 0                            0  \n 1                            0  \n 2                            0  \n 3                            0  \n 4                            0  \n ...                        ...  \n 14001                        0  \n 14002                        0  \n 14003                        0  \n 14004                        0  \n 14005                        0  \n \n [14006 rows x 45 columns],\n         id              date  around_holiday  holiday  temperature  \\\n 0        0     1/1/2018 2:00           False     True        16.50   \n 1        1     1/1/2018 5:00           False     True        16.24   \n 2        2     1/1/2018 7:00           False     True        17.03   \n 3        3     1/1/2018 8:00           False     True        15.95   \n 4        4    1/1/2018 10:00           False     True        18.53   \n ...    ...               ...             ...      ...          ...   \n 3499  3499  31/12/2018 17:00            True    False        11.61   \n 3500  3500  31/12/2018 19:00            True    False        11.61   \n 3501  3501  31/12/2018 21:00            True    False        10.60   \n 3502  3502  31/12/2018 22:00            True    False        10.60   \n 3503  3503  31/12/2018 23:00            True    False        10.60   \n \n       apparentTemperature  dewPoint  humidity  windSpeed  windBearing  ...  \\\n 0                   16.50     12.84      0.79       4.34         73.0  ...   \n 1                   16.24     12.34      0.78       4.36         84.0  ...   \n 2                   17.03     12.05      0.73       4.63         59.0  ...   \n 3                   15.95     11.83      0.77       4.55         61.0  ...   \n 4                   18.53     12.95      0.70       6.35         87.0  ...   \n ...                   ...       ...       ...        ...          ...  ...   \n 3499                11.61      5.00      0.64       6.70        330.0  ...   \n 3500                11.61      5.00      0.64       5.09        350.0  ...   \n 3501                10.60      6.00      0.73       5.70        341.0  ...   \n 3502                10.60      5.00      0.68       5.09         11.0  ...   \n 3503                10.60      5.00      0.68       5.09          0.0  ...   \n \n       Possible Drizzle and Humid  Possible Light Rain  \\\n 0                              0                    0   \n 1                              0                    0   \n 2                              0                    0   \n 3                              0                    0   \n 4                              0                    0   \n ...                          ...                  ...   \n 3499                           0                    0   \n 3500                           0                    0   \n 3501                           0                    0   \n 3502                           0                    0   \n 3503                           0                    0   \n \n       Possible Light Rain and Humid  Rain  Rain and Dangerously Windy  \\\n 0                                 0     0                           0   \n 1                                 0     0                           0   \n 2                                 0     0                           0   \n 3                                 0     0                           0   \n 4                                 0     0                           0   \n ...                             ...   ...                         ...   \n 3499                              0     0                           0   \n 3500                              0     0                           0   \n 3501                              0     0                           0   \n 3502                              0     0                           0   \n 3503                              0     0                           0   \n \n       Rain and Humid  Rain and Windy  Windy  Windy and Humid  \\\n 0                  0               0      0                0   \n 1                  0               0      0                0   \n 2                  0               0      0                0   \n 3                  0               0      0                0   \n 4                  0               0      0                0   \n ...              ...             ...    ...              ...   \n 3499               0               0      0                0   \n 3500               0               0      0                0   \n 3501               0               0      0                0   \n 3502               0               0      0                0   \n 3503               0               0      0                0   \n \n       Windy and Partly Cloudy  \n 0                           0  \n 1                           0  \n 2                           0  \n 3                           0  \n 4                           0  \n ...                       ...  \n 3499                        0  \n 3500                        0  \n 3501                        0  \n 3502                        0  \n 3503                        0  \n \n [3504 rows x 44 columns])"
     },
     "execution_count": 45,
     "metadata": {},
     "output_type": "execute_result"
    }
   ],
   "source": [
    "_train = train.join(weather, on='datetime', rsuffix='r').drop(['datetime', 'summary'], 1)\n",
    "_test = test.join(weather, on='datetime', rsuffix='r').drop(['datetime', 'summary'], 1)\n",
    "_train.to_csv('train_weather.csv', encoding='utf-8', header=True, index=None)\n",
    "_test.to_csv('test_weather.csv', encoding='utf-8', header=True, index=None)\n",
    "\n",
    "_train, _test\n"
   ],
   "metadata": {
    "collapsed": false,
    "pycharm": {
     "name": "#%%\n"
    }
   }
  }
 ],
 "metadata": {
  "kernelspec": {
   "name": "5001",
   "language": "python",
   "display_name": "5001"
  },
  "language_info": {
   "codemirror_mode": {
    "name": "ipython",
    "version": 2
   },
   "file_extension": ".py",
   "mimetype": "text/x-python",
   "name": "python",
   "nbconvert_exporter": "python",
   "pygments_lexer": "ipython2",
   "version": "2.7.6"
  }
 },
 "nbformat": 4,
 "nbformat_minor": 0
}